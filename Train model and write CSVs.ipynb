{
 "cells": [
  {
   "cell_type": "code",
   "execution_count": 10,
   "metadata": {},
   "outputs": [],
   "source": [
    "from sklearn.ensemble import RandomForestRegressor\n",
    "from sklearn.datasets import load_boston\n",
    "import numpy as np\n",
    "import pandas as pd"
   ]
  },
  {
   "cell_type": "code",
   "execution_count": 2,
   "metadata": {},
   "outputs": [],
   "source": [
    "b = load_boston()\n",
    "X = b[\"data\"][:500,:]\n",
    "y = b[\"target\"][:500]"
   ]
  },
  {
   "cell_type": "code",
   "execution_count": 3,
   "metadata": {},
   "outputs": [
    {
     "data": {
      "text/plain": [
       "RandomForestRegressor(bootstrap=True, criterion='mse', max_depth=5,\n",
       "           max_features='auto', max_leaf_nodes=None,\n",
       "           min_impurity_decrease=0.0, min_impurity_split=None,\n",
       "           min_samples_leaf=1, min_samples_split=2,\n",
       "           min_weight_fraction_leaf=0.0, n_estimators=10, n_jobs=1,\n",
       "           oob_score=False, random_state=None, verbose=0, warm_start=False)"
      ]
     },
     "execution_count": 3,
     "metadata": {},
     "output_type": "execute_result"
    }
   ],
   "source": [
    "rf = RandomForestRegressor(n_estimators=10, max_depth=5)\n",
    "rf.fit(X, y)"
   ]
  },
  {
   "cell_type": "code",
   "execution_count": 4,
   "metadata": {},
   "outputs": [],
   "source": [
    "# rf.estimators_ are the individual trees\n",
    "# rf.estimators_[n].tree_.node_count get the number of nodes in the tree\n",
    "\n",
    "for i in range(len(rf.estimators_)):\n",
    "    tree = rf.estimators_[i].tree_\n",
    "    df = pd.DataFrame({\"Column\":tree.feature, \"Threshold\":tree.threshold,\n",
    "                       \"LeftChild\":tree.children_left, \"RightChild\":tree.children_right,\n",
    "                       \"Value\":tree.value.reshape(-1)})\n",
    "    df = df[[\"Column\",\"Threshold\", \"LeftChild\", \"RightChild\", \"Value\"]]\n",
    "    df_string = f\"{len(df)}\\n{df.to_csv(header=False, index=False)}\"\n",
    "    with open(f\"tree{i}.csv\", \"w\") as f:\n",
    "        f.write(df_string)"
   ]
  },
  {
   "cell_type": "code",
   "execution_count": 39,
   "metadata": {},
   "outputs": [
    {
     "name": "stdout",
     "output_type": "stream",
     "text": [
      "CPU times: user 684 ms, sys: 0 ns, total: 684 ms\n",
      "Wall time: 701 ms\n"
     ]
    }
   ],
   "source": [
    "#confirm the prediction for the forest, so you can compare to the results of the C code\n",
    "rf.predict(b[\"data\"][501,:])"
   ]
  },
  {
   "cell_type": "code",
   "execution_count": 19,
   "metadata": {},
   "outputs": [
    {
     "data": {
      "text/plain": [
       "array([6.2630e-02, 0.0000e+00, 1.1930e+01, 0.0000e+00, 5.7300e-01,\n",
       "       6.5930e+00, 6.9100e+01, 2.4786e+00, 1.0000e+00, 2.7300e+02,\n",
       "       2.1000e+01, 3.9199e+02, 9.6700e+00])"
      ]
     },
     "execution_count": 19,
     "metadata": {},
     "output_type": "execute_result"
    }
   ],
   "source": [
    "# for use in the C script\n",
    "b[\"data\"][501,]"
   ]
  }
 ],
 "metadata": {
  "kernelspec": {
   "display_name": "Python 3",
   "language": "python",
   "name": "python3"
  },
  "language_info": {
   "codemirror_mode": {
    "name": "ipython",
    "version": 3
   },
   "file_extension": ".py",
   "mimetype": "text/x-python",
   "name": "python",
   "nbconvert_exporter": "python",
   "pygments_lexer": "ipython3",
   "version": "3.6.9"
  }
 },
 "nbformat": 4,
 "nbformat_minor": 2
}
